{
 "cells": [
  {
   "cell_type": "markdown",
   "metadata": {},
   "source": [
    "## EDA LAB\n",
    "\n",
    "The General Social Survey (GSS) is a bi-annual nationally representative survey of Americans, with almost 7000 different questions asked since the survey began in the 1970s. It has straightforward questions about respondents' demographic information, but also questions like \"Does your job regularly require you to perform repetitive or forceful hand movements or involve awkward postures?\" or \"How often do the demands of your job interfere with your family life?\" There are a variety of controversial questions. No matter what you're curious about, there's something interesting in here to check out. The codebook is 904 pages (use CTRL+F to search it).\n",
    "\n",
    "The data and codebook are available at:\n",
    "https://gss.norc.org/us/en/gss/get-the-data.html\n",
    "\n",
    "The datasets are so large that it might make sense to pick the variables you want, and then download just those variables from:\n",
    "https://gssdataexplorer.norc.org/variables/vfilter\n",
    "\n",
    "Here is your task:\n",
    "1. Download a small (5-15) set of variables of interest. (You can also check out `get_gss.ipynb` for some processed data.)\n",
    "2. Write a short description of the data you chose, and why. (~500 words)\n",
    "3. Load the data using Pandas. Clean them up for EDA. Do this in this notebook with comments or markdown chunks explaining your choices.\n",
    "4. Produce some numeric summaries and visualizations. \n",
    "5. Describe your findings. (500 - 1000 words, or more)\n",
    "\n",
    "For example, you might want to look at how aspects of a person's childhood family are correlated or not with their career or family choices as an adult. Or how political or religious affiliations correlate with drug use or sexual practices. It's an extremely wide-ranging survey.\n"
   ]
  },
  {
   "cell_type": "markdown",
   "metadata": {},
   "source": [
    "### 1.\n",
    "\n",
    "We chose a few variables of interest. They're explained in section 2, but check out the ./data folder for the data we picked!"
   ]
  },
  {
   "cell_type": "markdown",
   "metadata": {},
   "source": [
    "### 2."
   ]
  },
  {
   "cell_type": "markdown",
   "metadata": {},
   "source": [
    "The GSS dataset is a national survey seemingly similar to that of the US census that tracks demographic information and prompts specific questions regarding alcoholism, politics, work, etc. We chose the following variables from the GSS dataset: ballot, hrs1, wrkslf, weekswrk, joblose, jobfind, satjob, richwork, jobinc, jobsec, jobhour, jobpromo, jobmeans, id_, year. The overarching theme and idea of why we chose this data is that we wanted to look into information about jobs and working class individuals. Namely, we wanted information like working hours, perception of jobs (i.e. satisfaction, perception about loss, perception about capability to hop, continuing work if rich). Likewise, we also wanted to look at important job factors to people like income, job security, short hours, promotion capabilities, and work importance to understand how workers felt about their jobs. This data in particular could help us understand and gain insight on perceptions about jobs and people's thoughts regarding that. We initially hoped to analyze this information spanning multiple years, but realized that due to the nature of this information, a lot of the years contained null/missing data. Thus, we decided to hone in on the year 1985, as it contained the most information for these jobs. The year 1985 should still give us some interesting information to work since it followed a deep recession in the American economy - thus, we have some expectations for what we'll see in this data (namely with respect to the joblose and satjob variables). This insight on common workers perception as the economy was struggling to rebound from this recession will be the center of our analysis.\n",
    "\n",
    "We were primarily interested in viewing some trends and relationships between these job factors. We compiled a few research questions that we thought could definitely be interesting based on these variables that we wanted to hopefully explore with our EDA, such as:\n",
    "- Is there a correlation between being self employed and the number of hours worked? Are they typically happier with their jobs?\n",
    "- What are the most important factors to people that identified they would continue working if rich? What about those that said they wouldn't continue working?\n",
    "- How does perception about job loss and job finding capabilities interact with satisfaction?"
   ]
  },
  {
   "cell_type": "markdown",
   "metadata": {},
   "source": [
    "### 3."
   ]
  },
  {
   "cell_type": "code",
   "execution_count": 2,
   "metadata": {},
   "outputs": [
    {
     "data": {
      "text/html": [
       "<div>\n",
       "<style scoped>\n",
       "    .dataframe tbody tr th:only-of-type {\n",
       "        vertical-align: middle;\n",
       "    }\n",
       "\n",
       "    .dataframe tbody tr th {\n",
       "        vertical-align: top;\n",
       "    }\n",
       "\n",
       "    .dataframe thead th {\n",
       "        text-align: right;\n",
       "    }\n",
       "</style>\n",
       "<table border=\"1\" class=\"dataframe\">\n",
       "  <thead>\n",
       "    <tr style=\"text-align: right;\">\n",
       "      <th></th>\n",
       "      <th>year</th>\n",
       "      <th>id_</th>\n",
       "      <th>hrs1</th>\n",
       "      <th>wrkslf</th>\n",
       "      <th>weekswrk</th>\n",
       "      <th>joblose</th>\n",
       "      <th>jobfind</th>\n",
       "      <th>satjob</th>\n",
       "      <th>richwork</th>\n",
       "      <th>jobinc</th>\n",
       "      <th>jobsec</th>\n",
       "      <th>jobhour</th>\n",
       "      <th>jobpromo</th>\n",
       "      <th>jobmeans</th>\n",
       "      <th>ballot</th>\n",
       "    </tr>\n",
       "  </thead>\n",
       "  <tbody>\n",
       "    <tr>\n",
       "      <th>0</th>\n",
       "      <td>1972</td>\n",
       "      <td>1</td>\n",
       "      <td>.i:  Inapplicable</td>\n",
       "      <td>Someone else</td>\n",
       "      <td>.i:  Inapplicable</td>\n",
       "      <td>.i:  Inapplicable</td>\n",
       "      <td>.i:  Inapplicable</td>\n",
       "      <td>A little dissatisfied</td>\n",
       "      <td>.i:  Inapplicable</td>\n",
       "      <td>.i:  Inapplicable</td>\n",
       "      <td>.i:  Inapplicable</td>\n",
       "      <td>.i:  Inapplicable</td>\n",
       "      <td>.i:  Inapplicable</td>\n",
       "      <td>.i:  Inapplicable</td>\n",
       "      <td>.i:  Inapplicable</td>\n",
       "    </tr>\n",
       "    <tr>\n",
       "      <th>1</th>\n",
       "      <td>1972</td>\n",
       "      <td>2</td>\n",
       "      <td>.i:  Inapplicable</td>\n",
       "      <td>Someone else</td>\n",
       "      <td>.i:  Inapplicable</td>\n",
       "      <td>.i:  Inapplicable</td>\n",
       "      <td>.i:  Inapplicable</td>\n",
       "      <td>.i:  Inapplicable</td>\n",
       "      <td>.i:  Inapplicable</td>\n",
       "      <td>.i:  Inapplicable</td>\n",
       "      <td>.i:  Inapplicable</td>\n",
       "      <td>.i:  Inapplicable</td>\n",
       "      <td>.i:  Inapplicable</td>\n",
       "      <td>.i:  Inapplicable</td>\n",
       "      <td>.i:  Inapplicable</td>\n",
       "    </tr>\n",
       "    <tr>\n",
       "      <th>2</th>\n",
       "      <td>1972</td>\n",
       "      <td>3</td>\n",
       "      <td>.i:  Inapplicable</td>\n",
       "      <td>Someone else</td>\n",
       "      <td>.i:  Inapplicable</td>\n",
       "      <td>.i:  Inapplicable</td>\n",
       "      <td>.i:  Inapplicable</td>\n",
       "      <td>Moderately satisfied</td>\n",
       "      <td>.i:  Inapplicable</td>\n",
       "      <td>.i:  Inapplicable</td>\n",
       "      <td>.i:  Inapplicable</td>\n",
       "      <td>.i:  Inapplicable</td>\n",
       "      <td>.i:  Inapplicable</td>\n",
       "      <td>.i:  Inapplicable</td>\n",
       "      <td>.i:  Inapplicable</td>\n",
       "    </tr>\n",
       "    <tr>\n",
       "      <th>3</th>\n",
       "      <td>1972</td>\n",
       "      <td>4</td>\n",
       "      <td>.i:  Inapplicable</td>\n",
       "      <td>Someone else</td>\n",
       "      <td>.i:  Inapplicable</td>\n",
       "      <td>.i:  Inapplicable</td>\n",
       "      <td>.i:  Inapplicable</td>\n",
       "      <td>Very satisfied</td>\n",
       "      <td>.i:  Inapplicable</td>\n",
       "      <td>.i:  Inapplicable</td>\n",
       "      <td>.i:  Inapplicable</td>\n",
       "      <td>.i:  Inapplicable</td>\n",
       "      <td>.i:  Inapplicable</td>\n",
       "      <td>.i:  Inapplicable</td>\n",
       "      <td>.i:  Inapplicable</td>\n",
       "    </tr>\n",
       "    <tr>\n",
       "      <th>4</th>\n",
       "      <td>1972</td>\n",
       "      <td>5</td>\n",
       "      <td>.i:  Inapplicable</td>\n",
       "      <td>Someone else</td>\n",
       "      <td>.i:  Inapplicable</td>\n",
       "      <td>.i:  Inapplicable</td>\n",
       "      <td>.i:  Inapplicable</td>\n",
       "      <td>.i:  Inapplicable</td>\n",
       "      <td>.i:  Inapplicable</td>\n",
       "      <td>.i:  Inapplicable</td>\n",
       "      <td>.i:  Inapplicable</td>\n",
       "      <td>.i:  Inapplicable</td>\n",
       "      <td>.i:  Inapplicable</td>\n",
       "      <td>.i:  Inapplicable</td>\n",
       "      <td>.i:  Inapplicable</td>\n",
       "    </tr>\n",
       "  </tbody>\n",
       "</table>\n",
       "</div>"
      ],
      "text/plain": [
       "   year  id_               hrs1        wrkslf           weekswrk  \\\n",
       "0  1972    1  .i:  Inapplicable  Someone else  .i:  Inapplicable   \n",
       "1  1972    2  .i:  Inapplicable  Someone else  .i:  Inapplicable   \n",
       "2  1972    3  .i:  Inapplicable  Someone else  .i:  Inapplicable   \n",
       "3  1972    4  .i:  Inapplicable  Someone else  .i:  Inapplicable   \n",
       "4  1972    5  .i:  Inapplicable  Someone else  .i:  Inapplicable   \n",
       "\n",
       "             joblose            jobfind                 satjob  \\\n",
       "0  .i:  Inapplicable  .i:  Inapplicable  A little dissatisfied   \n",
       "1  .i:  Inapplicable  .i:  Inapplicable      .i:  Inapplicable   \n",
       "2  .i:  Inapplicable  .i:  Inapplicable   Moderately satisfied   \n",
       "3  .i:  Inapplicable  .i:  Inapplicable         Very satisfied   \n",
       "4  .i:  Inapplicable  .i:  Inapplicable      .i:  Inapplicable   \n",
       "\n",
       "            richwork             jobinc             jobsec            jobhour  \\\n",
       "0  .i:  Inapplicable  .i:  Inapplicable  .i:  Inapplicable  .i:  Inapplicable   \n",
       "1  .i:  Inapplicable  .i:  Inapplicable  .i:  Inapplicable  .i:  Inapplicable   \n",
       "2  .i:  Inapplicable  .i:  Inapplicable  .i:  Inapplicable  .i:  Inapplicable   \n",
       "3  .i:  Inapplicable  .i:  Inapplicable  .i:  Inapplicable  .i:  Inapplicable   \n",
       "4  .i:  Inapplicable  .i:  Inapplicable  .i:  Inapplicable  .i:  Inapplicable   \n",
       "\n",
       "            jobpromo           jobmeans             ballot  \n",
       "0  .i:  Inapplicable  .i:  Inapplicable  .i:  Inapplicable  \n",
       "1  .i:  Inapplicable  .i:  Inapplicable  .i:  Inapplicable  \n",
       "2  .i:  Inapplicable  .i:  Inapplicable  .i:  Inapplicable  \n",
       "3  .i:  Inapplicable  .i:  Inapplicable  .i:  Inapplicable  \n",
       "4  .i:  Inapplicable  .i:  Inapplicable  .i:  Inapplicable  "
      ]
     },
     "execution_count": 2,
     "metadata": {},
     "output_type": "execute_result"
    }
   ],
   "source": [
    "import pandas as pd\n",
    "import numpy as np\n",
    "import seaborn as sns\n",
    "import matplotlib as plt\n",
    "\n",
    "df_gss = pd.read_csv(\"./data/GSS.csv\")\n",
    "df_gss.head()"
   ]
  },
  {
   "cell_type": "markdown",
   "metadata": {},
   "source": [
    "Opening the data, we can see *many* observations with inapplicable responses and values. This is due to the spread of data available among the variables we chose from GSS. Some variables were only collected during the 90s, others during the 70s or 80s, some up until today. To maximize the consistency of our data, we must pinpoint year that minimizes these discrepancies and NaN values.  "
   ]
  },
  {
   "cell_type": "code",
   "execution_count": 3,
   "metadata": {},
   "outputs": [
    {
     "data": {
      "text/html": [
       "<div>\n",
       "<style scoped>\n",
       "    .dataframe tbody tr th:only-of-type {\n",
       "        vertical-align: middle;\n",
       "    }\n",
       "\n",
       "    .dataframe tbody tr th {\n",
       "        vertical-align: top;\n",
       "    }\n",
       "\n",
       "    .dataframe thead th {\n",
       "        text-align: right;\n",
       "    }\n",
       "</style>\n",
       "<table border=\"1\" class=\"dataframe\">\n",
       "  <thead>\n",
       "    <tr style=\"text-align: right;\">\n",
       "      <th></th>\n",
       "      <th>year</th>\n",
       "      <th>id_</th>\n",
       "      <th>hrs1</th>\n",
       "      <th>wrkslf</th>\n",
       "      <th>weekswrk</th>\n",
       "      <th>joblose</th>\n",
       "      <th>jobfind</th>\n",
       "      <th>satjob</th>\n",
       "      <th>richwork</th>\n",
       "      <th>jobinc</th>\n",
       "      <th>jobsec</th>\n",
       "      <th>jobhour</th>\n",
       "      <th>jobpromo</th>\n",
       "      <th>jobmeans</th>\n",
       "      <th>ballot</th>\n",
       "    </tr>\n",
       "  </thead>\n",
       "  <tbody>\n",
       "    <tr>\n",
       "      <th>0</th>\n",
       "      <td>1972</td>\n",
       "      <td>1</td>\n",
       "      <td>.i:  Inapplicable</td>\n",
       "      <td>Someone else</td>\n",
       "      <td>.i:  Inapplicable</td>\n",
       "      <td>.i:  Inapplicable</td>\n",
       "      <td>.i:  Inapplicable</td>\n",
       "      <td>A little dissatisfied</td>\n",
       "      <td>.i:  Inapplicable</td>\n",
       "      <td>.i:  Inapplicable</td>\n",
       "      <td>.i:  Inapplicable</td>\n",
       "      <td>.i:  Inapplicable</td>\n",
       "      <td>.i:  Inapplicable</td>\n",
       "      <td>.i:  Inapplicable</td>\n",
       "      <td>.i:  Inapplicable</td>\n",
       "    </tr>\n",
       "    <tr>\n",
       "      <th>1</th>\n",
       "      <td>1972</td>\n",
       "      <td>2</td>\n",
       "      <td>.i:  Inapplicable</td>\n",
       "      <td>Someone else</td>\n",
       "      <td>.i:  Inapplicable</td>\n",
       "      <td>.i:  Inapplicable</td>\n",
       "      <td>.i:  Inapplicable</td>\n",
       "      <td>.i:  Inapplicable</td>\n",
       "      <td>.i:  Inapplicable</td>\n",
       "      <td>.i:  Inapplicable</td>\n",
       "      <td>.i:  Inapplicable</td>\n",
       "      <td>.i:  Inapplicable</td>\n",
       "      <td>.i:  Inapplicable</td>\n",
       "      <td>.i:  Inapplicable</td>\n",
       "      <td>.i:  Inapplicable</td>\n",
       "    </tr>\n",
       "    <tr>\n",
       "      <th>2</th>\n",
       "      <td>1972</td>\n",
       "      <td>3</td>\n",
       "      <td>.i:  Inapplicable</td>\n",
       "      <td>Someone else</td>\n",
       "      <td>.i:  Inapplicable</td>\n",
       "      <td>.i:  Inapplicable</td>\n",
       "      <td>.i:  Inapplicable</td>\n",
       "      <td>Moderately satisfied</td>\n",
       "      <td>.i:  Inapplicable</td>\n",
       "      <td>.i:  Inapplicable</td>\n",
       "      <td>.i:  Inapplicable</td>\n",
       "      <td>.i:  Inapplicable</td>\n",
       "      <td>.i:  Inapplicable</td>\n",
       "      <td>.i:  Inapplicable</td>\n",
       "      <td>.i:  Inapplicable</td>\n",
       "    </tr>\n",
       "    <tr>\n",
       "      <th>3</th>\n",
       "      <td>1972</td>\n",
       "      <td>4</td>\n",
       "      <td>.i:  Inapplicable</td>\n",
       "      <td>Someone else</td>\n",
       "      <td>.i:  Inapplicable</td>\n",
       "      <td>.i:  Inapplicable</td>\n",
       "      <td>.i:  Inapplicable</td>\n",
       "      <td>Very satisfied</td>\n",
       "      <td>.i:  Inapplicable</td>\n",
       "      <td>.i:  Inapplicable</td>\n",
       "      <td>.i:  Inapplicable</td>\n",
       "      <td>.i:  Inapplicable</td>\n",
       "      <td>.i:  Inapplicable</td>\n",
       "      <td>.i:  Inapplicable</td>\n",
       "      <td>.i:  Inapplicable</td>\n",
       "    </tr>\n",
       "    <tr>\n",
       "      <th>4</th>\n",
       "      <td>1972</td>\n",
       "      <td>5</td>\n",
       "      <td>.i:  Inapplicable</td>\n",
       "      <td>Someone else</td>\n",
       "      <td>.i:  Inapplicable</td>\n",
       "      <td>.i:  Inapplicable</td>\n",
       "      <td>.i:  Inapplicable</td>\n",
       "      <td>.i:  Inapplicable</td>\n",
       "      <td>.i:  Inapplicable</td>\n",
       "      <td>.i:  Inapplicable</td>\n",
       "      <td>.i:  Inapplicable</td>\n",
       "      <td>.i:  Inapplicable</td>\n",
       "      <td>.i:  Inapplicable</td>\n",
       "      <td>.i:  Inapplicable</td>\n",
       "      <td>.i:  Inapplicable</td>\n",
       "    </tr>\n",
       "  </tbody>\n",
       "</table>\n",
       "</div>"
      ],
      "text/plain": [
       "   year  id_               hrs1        wrkslf           weekswrk  \\\n",
       "0  1972    1  .i:  Inapplicable  Someone else  .i:  Inapplicable   \n",
       "1  1972    2  .i:  Inapplicable  Someone else  .i:  Inapplicable   \n",
       "2  1972    3  .i:  Inapplicable  Someone else  .i:  Inapplicable   \n",
       "3  1972    4  .i:  Inapplicable  Someone else  .i:  Inapplicable   \n",
       "4  1972    5  .i:  Inapplicable  Someone else  .i:  Inapplicable   \n",
       "\n",
       "             joblose            jobfind                 satjob  \\\n",
       "0  .i:  Inapplicable  .i:  Inapplicable  A little dissatisfied   \n",
       "1  .i:  Inapplicable  .i:  Inapplicable      .i:  Inapplicable   \n",
       "2  .i:  Inapplicable  .i:  Inapplicable   Moderately satisfied   \n",
       "3  .i:  Inapplicable  .i:  Inapplicable         Very satisfied   \n",
       "4  .i:  Inapplicable  .i:  Inapplicable      .i:  Inapplicable   \n",
       "\n",
       "            richwork             jobinc             jobsec            jobhour  \\\n",
       "0  .i:  Inapplicable  .i:  Inapplicable  .i:  Inapplicable  .i:  Inapplicable   \n",
       "1  .i:  Inapplicable  .i:  Inapplicable  .i:  Inapplicable  .i:  Inapplicable   \n",
       "2  .i:  Inapplicable  .i:  Inapplicable  .i:  Inapplicable  .i:  Inapplicable   \n",
       "3  .i:  Inapplicable  .i:  Inapplicable  .i:  Inapplicable  .i:  Inapplicable   \n",
       "4  .i:  Inapplicable  .i:  Inapplicable  .i:  Inapplicable  .i:  Inapplicable   \n",
       "\n",
       "            jobpromo           jobmeans             ballot  \n",
       "0  .i:  Inapplicable  .i:  Inapplicable  .i:  Inapplicable  \n",
       "1  .i:  Inapplicable  .i:  Inapplicable  .i:  Inapplicable  \n",
       "2  .i:  Inapplicable  .i:  Inapplicable  .i:  Inapplicable  \n",
       "3  .i:  Inapplicable  .i:  Inapplicable  .i:  Inapplicable  \n",
       "4  .i:  Inapplicable  .i:  Inapplicable  .i:  Inapplicable  "
      ]
     },
     "execution_count": 3,
     "metadata": {},
     "output_type": "execute_result"
    }
   ],
   "source": [
    "df_gss.head()"
   ]
  },
  {
   "cell_type": "code",
   "execution_count": 4,
   "metadata": {},
   "outputs": [
    {
     "data": {
      "text/plain": [
       "year        0\n",
       "id_         0\n",
       "hrs1        0\n",
       "wrkslf      0\n",
       "weekswrk    0\n",
       "joblose     0\n",
       "jobfind     0\n",
       "satjob      0\n",
       "richwork    0\n",
       "jobinc      0\n",
       "jobsec      0\n",
       "jobhour     0\n",
       "jobpromo    0\n",
       "jobmeans    0\n",
       "ballot      0\n",
       "dtype: int64"
      ]
     },
     "execution_count": 4,
     "metadata": {},
     "output_type": "execute_result"
    }
   ],
   "source": [
    "df_gss.isnull().sum()"
   ]
  },
  {
   "cell_type": "markdown",
   "metadata": {},
   "source": [
    "While we don't have null values, the GSS codebook has specific values that might as well be null or non-applicable. Below is just one example of the variety of these codes:"
   ]
  },
  {
   "cell_type": "code",
   "execution_count": 5,
   "metadata": {},
   "outputs": [
    {
     "data": {
      "text/plain": [
       "array(['.i:  Inapplicable', 'None or zero', '52', '44', '30', '40', '45',\n",
       "       '.d:  Do not Know/Cannot Choose', '28', '21', '38', '24', '26',\n",
       "       '25', '20', '12', '32', '42', '16', '48', '51', '50', '6', '43',\n",
       "       '.n:  No answer', '22', '36', '4', '46', '15', '49', '2', '11',\n",
       "       '35', '39', '31', '9', '8', '41', '47', '3', '10', '7', '34', '1',\n",
       "       '5', '33', '14', '17', '27', '18', '37', '23', '13', '29', '19',\n",
       "       '.s:  Skipped on Web', '.x:  Not available in this release'],\n",
       "      dtype=object)"
      ]
     },
     "execution_count": 5,
     "metadata": {},
     "output_type": "execute_result"
    }
   ],
   "source": [
    "df_gss[\"weekswrk\"].unique()"
   ]
  },
  {
   "cell_type": "markdown",
   "metadata": {},
   "source": [
    "To resolve this, we must go through each of our 12 variables and ensure these codes are uniformly represented in our data. First, we must rely on the codebook to identify all the different types of codes:"
   ]
  },
  {
   "cell_type": "code",
   "execution_count": 6,
   "metadata": {},
   "outputs": [],
   "source": [
    "codes = [\n",
    "    \".i:  Inapplicable\",\n",
    "    \".m:  DK, NA, IAP\",\n",
    "    \".p:  Not applicable (I have not faced this decision)/Not imputable\",\n",
    "    \".j:  I do not have a job\",\n",
    "    \".y:  Not available in this year\",\n",
    "    \".x:  Not available in this release\",\n",
    "    \".r:  Refused\",\n",
    "    \".f:  Missing Birthdate Information\",\n",
    "    \".q:  Not imputable\",\n",
    "    \".u:  Uncodable\",\n",
    "    \".z:  Variable-specific reserve code\",\n",
    "    \".s:  Skipped on Web\",\n",
    "    \".d:  Do not Know/Cannot Choose\",\n",
    "    \".n:  No answer\"\n",
    "]"
   ]
  },
  {
   "cell_type": "markdown",
   "metadata": {},
   "source": [
    "Now we know what to look for when replacing values for NaN. Year, id_, and ballot all look fine, so we can move on to cleaning more important variables. "
   ]
  },
  {
   "cell_type": "code",
   "execution_count": 7,
   "metadata": {},
   "outputs": [
    {
     "name": "stdout",
     "output_type": "stream",
     "text": [
      "[1972 1973 1974 1975 1976 1977 1978 1980 1982 1983 1984 1985 1986 1987\n",
      " 1988 1989 1990 1991 1993 1994 1996 1998 2000 2002 2004 2006 2008 2010\n",
      " 2012 2014 2016 2018 2021 2022 2024]\n",
      "[   1    2    3 ... 4508 4509 4510]\n",
      "['.i:  Inapplicable' 'Ballot b' 'Ballot c' 'Ballot a' 'Ballot d']\n"
     ]
    }
   ],
   "source": [
    "print(df_gss[\"year\"].unique())\n",
    "print(df_gss[\"id_\"].unique())\n",
    "print(df_gss[\"ballot\"].unique())"
   ]
  },
  {
   "cell_type": "markdown",
   "metadata": {},
   "source": [
    "Now replace any values with the codes with NaN. This ensures these values do not appear in our visualizations, as we care less about the context of the missing data and more that it is not there to begin with."
   ]
  },
  {
   "cell_type": "code",
   "execution_count": 8,
   "metadata": {},
   "outputs": [
    {
     "data": {
      "text/plain": [
       "array([nan, '27', '40', '52', '35', '45', '70', '60', '42', '23', '55',\n",
       "       '50', '6', '37', '36', '48', '16', '24', '20', '80', '65', '15',\n",
       "       '39', '25', '22', '44', '26', '38', '12', '41', '84', '18', '54',\n",
       "       '32', '3', '29', '51', '30', '89+ hrs', '43', '58', '28', '46',\n",
       "       '8', '9', '19', '14', '66', '61', '49', '10', '72', '34', '75',\n",
       "       '53', '7', '21', '47', '57', '71', '13', '5', '31', '17', '56',\n",
       "       '4', '0', '33', '1', '68', '11', '2', '85', '62', '59', '78', '77',\n",
       "       '64', '63', '67', '73', '88', '69', '76', '74', '81', '79', '86',\n",
       "       '87', '83', '82'], dtype=object)"
      ]
     },
     "execution_count": 8,
     "metadata": {},
     "output_type": "execute_result"
    }
   ],
   "source": [
    "df_gss = df_gss.replace(codes, np.nan)\n",
    "df_gss[\"hrs1\"].unique()"
   ]
  },
  {
   "cell_type": "markdown",
   "metadata": {},
   "source": [
    "Our values look better, but we still need to handle the \"89+ hrs\", as well as convert these values to integers."
   ]
  },
  {
   "cell_type": "code",
   "execution_count": 9,
   "metadata": {},
   "outputs": [
    {
     "data": {
      "text/plain": [
       "array([nan, 27., 40., 52., 35., 45., 70., 60., 42., 23., 55., 50.,  6.,\n",
       "       37., 36., 48., 16., 24., 20., 80., 65., 15., 39., 25., 22., 44.,\n",
       "       26., 38., 12., 41., 84., 18., 54., 32.,  3., 29., 51., 30., 89.,\n",
       "       43., 58., 28., 46.,  8.,  9., 19., 14., 66., 61., 49., 10., 72.,\n",
       "       34., 75., 53.,  7., 21., 47., 57., 71., 13.,  5., 31., 17., 56.,\n",
       "        4.,  0., 33.,  1., 68., 11.,  2., 85., 62., 59., 78., 77., 64.,\n",
       "       63., 67., 73., 88., 69., 76., 74., 81., 79., 86., 87., 83., 82.])"
      ]
     },
     "execution_count": 9,
     "metadata": {},
     "output_type": "execute_result"
    }
   ],
   "source": [
    "df_gss[\"hrs1\"] = df_gss[\"hrs1\"].astype(str)\n",
    "df_gss[\"hrs1\"] = df_gss[\"hrs1\"].str.replace(\"89+ hrs\", \"89\")\n",
    "df_gss[\"hrs1\"] = pd.to_numeric(df_gss[\"hrs1\"], errors=\"coerce\")\n",
    "df_gss[\"hrs1\"].unique()"
   ]
  },
  {
   "cell_type": "markdown",
   "metadata": {},
   "source": [
    "Looks good! Let's keep going with other variables."
   ]
  },
  {
   "cell_type": "code",
   "execution_count": 10,
   "metadata": {},
   "outputs": [
    {
     "name": "stdout",
     "output_type": "stream",
     "text": [
      "['Someone else' nan 'Self-employed']\n"
     ]
    },
    {
     "data": {
      "text/plain": [
       "array([nan, 52., 44., 30., 40., 45., 28., 21., 38., 24., 26., 25., 20.,\n",
       "       12., 32., 42., 16., 48., 51., 50.,  6., 43., 22., 36.,  4., 46.,\n",
       "       15., 49.,  2., 11., 35., 39., 31.,  9.,  8., 41., 47.,  3., 10.,\n",
       "        7., 34.,  1.,  5., 33., 14., 17., 27., 18., 37., 23., 13., 29.,\n",
       "       19.])"
      ]
     },
     "execution_count": 10,
     "metadata": {},
     "output_type": "execute_result"
    }
   ],
   "source": [
    "# looks good already\n",
    "print(df_gss[\"wrkslf\"].unique())\n",
    "\n",
    "df_gss[\"weekswrk\"] = df_gss[\"weekswrk\"].astype(str)\n",
    "df_gss[\"weekswrk\"] = df_gss[\"weekswrk\"].replace(\"None or zero\", np.nan)\n",
    "df_gss[\"weekswrk\"] = pd.to_numeric(df_gss[\"weekswrk\"], errors=\"coerce\")\n",
    "df_gss[\"weekswrk\"].unique()"
   ]
  },
  {
   "cell_type": "markdown",
   "metadata": {},
   "source": [
    "\"None or zero\" weeks worked in a year is equivalent to being unemployed, which falls under the code \".j:  I do not have a job\", meaning we can remove it as well."
   ]
  },
  {
   "cell_type": "code",
   "execution_count": 11,
   "metadata": {},
   "outputs": [
    {
     "name": "stdout",
     "output_type": "stream",
     "text": [
      "[nan 'Not likely' 'Not too likely' 'Very likely' 'Fairly likely'\n",
      " 'Leaving labor force']\n",
      "[nan 'Not easy' 'Very easy' 'Somewhat easy']\n",
      "['A little dissatisfied' nan 'Moderately satisfied' 'Very satisfied'\n",
      " 'Very dissatisfied']\n",
      "[nan 'Stop working' 'Continue to work']\n"
     ]
    }
   ],
   "source": [
    "# all look good!\n",
    "print(df_gss[\"joblose\"].unique())\n",
    "print(df_gss[\"jobfind\"].unique())\n",
    "print(df_gss[\"satjob\"].unique())\n",
    "print(df_gss[\"richwork\"].unique())"
   ]
  },
  {
   "cell_type": "markdown",
   "metadata": {},
   "source": [
    "Since these variables only contain their expected answers, our last five variables correspond to different job factors and how important each one is to an individual. "
   ]
  },
  {
   "cell_type": "code",
   "execution_count": 12,
   "metadata": {},
   "outputs": [
    {
     "name": "stdout",
     "output_type": "stream",
     "text": [
      "[nan 'FOURTH' 'SECOND' 'THIRD' 'MOST IMPT' 'FIFTH']\n",
      "[nan 'MOST IMPT' 'FOURTH' 'FIFTH' 'THIRD' 'SECOND']\n",
      "[nan 'FIFTH' 'THIRD' 'SECOND' 'FOURTH' 'MOST IMPT']\n",
      "[nan 'SECOND' 'MOST IMPT' 'FOURTH' 'THIRD' 'FIFTH']\n",
      "[nan 'THIRD' 'SECOND' 'FIFTH' 'MOST IMPT' 'FOURTH']\n"
     ]
    }
   ],
   "source": [
    "rank_variables = [\"jobinc\", \"jobsec\", \"jobhour\", \"jobpromo\", \"jobmeans\"]\n",
    "\n",
    "for var in rank_variables:\n",
    "    print(df_gss[var].unique())"
   ]
  },
  {
   "cell_type": "markdown",
   "metadata": {},
   "source": [
    "We can standardize this data by mapping each importance level to their corresponding integer."
   ]
  },
  {
   "cell_type": "code",
   "execution_count": 13,
   "metadata": {},
   "outputs": [
    {
     "name": "stdout",
     "output_type": "stream",
     "text": [
      "[nan  4.  2.  3.  1.  5.]\n",
      "[nan  1.  4.  5.  3.  2.]\n",
      "[nan  5.  3.  2.  4.  1.]\n",
      "[nan  2.  1.  4.  3.  5.]\n",
      "[nan  3.  2.  5.  1.  4.]\n"
     ]
    }
   ],
   "source": [
    "ranking = {\n",
    "    \"MOST IMPT\": 1,\n",
    "    \"SECOND\": 2,\n",
    "    \"THIRD\": 3,\n",
    "    \"FOURTH\": 4,\n",
    "    \"FIFTH\": 5\n",
    "}\n",
    "\n",
    "df_gss[\"jobinc\"] = df_gss[\"jobinc\"].map(ranking)\n",
    "df_gss[\"jobsec\"] = df_gss[\"jobsec\"].map(ranking)\n",
    "df_gss[\"jobhour\"] = df_gss[\"jobhour\"].map(ranking)\n",
    "df_gss[\"jobpromo\"] = df_gss[\"jobpromo\"].map(ranking)\n",
    "df_gss[\"jobmeans\"] = df_gss[\"jobmeans\"].map(ranking)\n",
    "\n",
    "\n",
    "for var in rank_variables:\n",
    "    print(df_gss[var].unique())"
   ]
  },
  {
   "cell_type": "markdown",
   "metadata": {},
   "source": [
    "Now we can check out NaN counts for each variable:"
   ]
  },
  {
   "cell_type": "code",
   "execution_count": 14,
   "metadata": {},
   "outputs": [
    {
     "data": {
      "text/plain": [
       "year            0\n",
       "id_             0\n",
       "hrs1        32371\n",
       "wrkslf       7350\n",
       "weekswrk    46454\n",
       "joblose     49722\n",
       "jobfind     49839\n",
       "satjob      21568\n",
       "richwork    46041\n",
       "jobinc      53893\n",
       "jobsec      53894\n",
       "jobhour     53898\n",
       "jobpromo    53896\n",
       "jobmeans    53885\n",
       "ballot      21875\n",
       "dtype: int64"
      ]
     },
     "execution_count": 14,
     "metadata": {},
     "output_type": "execute_result"
    }
   ],
   "source": [
    "df_gss.isna().sum()"
   ]
  },
  {
   "cell_type": "markdown",
   "metadata": {},
   "source": [
    "Five variables have over 50,000 missing values! This is largely due to difference in overlap of years in which the variable data were collected. We can confirm this as follows:"
   ]
  },
  {
   "cell_type": "code",
   "execution_count": 15,
   "metadata": {},
   "outputs": [
    {
     "data": {
      "text/plain": [
       "[Text(0.5, 1.0, 'Count of jobmeans by Year'),\n",
       " Text(0.5, 0, 'Year'),\n",
       " Text(0, 0.5, 'Count')]"
      ]
     },
     "execution_count": 15,
     "metadata": {},
     "output_type": "execute_result"
    },
    {
     "data": {
      "image/png": "[encoded data removed]",
      "text/plain": [
       "<Figure size 640x480 with 1 Axes>"
      ]
     },
     "metadata": {},
     "output_type": "display_data"
    }
   ],
   "source": [
    "jobmeans_by_year = df_gss.groupby(\"year\")[\"jobmeans\"].count().reset_index()\n",
    "\n",
    "fig = sns.lineplot(data=jobmeans_by_year, x=\"year\", y=\"jobmeans\")\n",
    "fig.set(title=\"Count of jobmeans by Year\",\n",
    "xlabel=\"Year\",\n",
    "ylabel=\"Count\")"
   ]
  },
  {
   "cell_type": "markdown",
   "metadata": {},
   "source": [
    "Data was sparsely collected during the 70s and 80s, becoming more consistent during the early 90s. Yet, it remained dry up until 2006 and was only collected again in 2012 and 2014. The challenge here is deciding how to handle these missing values. While we are missing lots of data, we cannot drop entire columns due to the value the remaining values pose for our exploratory analysis. At the same time, we cannot impute these values because they correspond to specific years. Replacing missing values across years would be too strong of a generalization and contaminate any genuine patterns in our data. Thus, we can limit the scope of our data honing in on a specific year that minimizes our NaN values across all variables:"
   ]
  },
  {
   "cell_type": "code",
   "execution_count": 16,
   "metadata": {},
   "outputs": [
    {
     "data": {
      "text/html": [
       "<div>\n",
       "<style scoped>\n",
       "    .dataframe tbody tr th:only-of-type {\n",
       "        vertical-align: middle;\n",
       "    }\n",
       "\n",
       "    .dataframe tbody tr th {\n",
       "        vertical-align: top;\n",
       "    }\n",
       "\n",
       "    .dataframe thead th {\n",
       "        text-align: right;\n",
       "    }\n",
       "</style>\n",
       "<table border=\"1\" class=\"dataframe\">\n",
       "  <thead>\n",
       "    <tr style=\"text-align: right;\">\n",
       "      <th></th>\n",
       "      <th>Observations</th>\n",
       "      <th>NaNs Across All Variables</th>\n",
       "      <th>NaN Ratio</th>\n",
       "    </tr>\n",
       "    <tr>\n",
       "      <th>year</th>\n",
       "      <th></th>\n",
       "      <th></th>\n",
       "      <th></th>\n",
       "    </tr>\n",
       "  </thead>\n",
       "  <tbody>\n",
       "    <tr>\n",
       "      <th>1985</th>\n",
       "      <td>1534</td>\n",
       "      <td>6008</td>\n",
       "      <td>3.916558</td>\n",
       "    </tr>\n",
       "    <tr>\n",
       "      <th>1977</th>\n",
       "      <td>1530</td>\n",
       "      <td>6202</td>\n",
       "      <td>4.053595</td>\n",
       "    </tr>\n",
       "    <tr>\n",
       "      <th>1984</th>\n",
       "      <td>1473</td>\n",
       "      <td>7531</td>\n",
       "      <td>5.112695</td>\n",
       "    </tr>\n",
       "    <tr>\n",
       "      <th>1987</th>\n",
       "      <td>1819</td>\n",
       "      <td>9324</td>\n",
       "      <td>5.125893</td>\n",
       "    </tr>\n",
       "    <tr>\n",
       "      <th>1990</th>\n",
       "      <td>1372</td>\n",
       "      <td>7106</td>\n",
       "      <td>5.179300</td>\n",
       "    </tr>\n",
       "    <tr>\n",
       "      <th>1980</th>\n",
       "      <td>1468</td>\n",
       "      <td>7617</td>\n",
       "      <td>5.188692</td>\n",
       "    </tr>\n",
       "    <tr>\n",
       "      <th>1993</th>\n",
       "      <td>1606</td>\n",
       "      <td>8353</td>\n",
       "      <td>5.201121</td>\n",
       "    </tr>\n",
       "    <tr>\n",
       "      <th>1988</th>\n",
       "      <td>1481</td>\n",
       "      <td>7778</td>\n",
       "      <td>5.251857</td>\n",
       "    </tr>\n",
       "    <tr>\n",
       "      <th>1989</th>\n",
       "      <td>1537</td>\n",
       "      <td>8162</td>\n",
       "      <td>5.310345</td>\n",
       "    </tr>\n",
       "    <tr>\n",
       "      <th>1974</th>\n",
       "      <td>1484</td>\n",
       "      <td>7883</td>\n",
       "      <td>5.311995</td>\n",
       "    </tr>\n",
       "    <tr>\n",
       "      <th>2014</th>\n",
       "      <td>2538</td>\n",
       "      <td>13566</td>\n",
       "      <td>5.345154</td>\n",
       "    </tr>\n",
       "    <tr>\n",
       "      <th>1991</th>\n",
       "      <td>1517</td>\n",
       "      <td>8216</td>\n",
       "      <td>5.415953</td>\n",
       "    </tr>\n",
       "    <tr>\n",
       "      <th>1973</th>\n",
       "      <td>1504</td>\n",
       "      <td>8152</td>\n",
       "      <td>5.420213</td>\n",
       "    </tr>\n",
       "    <tr>\n",
       "      <th>2012</th>\n",
       "      <td>1974</td>\n",
       "      <td>10764</td>\n",
       "      <td>5.452888</td>\n",
       "    </tr>\n",
       "    <tr>\n",
       "      <th>1976</th>\n",
       "      <td>1499</td>\n",
       "      <td>8212</td>\n",
       "      <td>5.478319</td>\n",
       "    </tr>\n",
       "    <tr>\n",
       "      <th>1982</th>\n",
       "      <td>1860</td>\n",
       "      <td>12341</td>\n",
       "      <td>6.634946</td>\n",
       "    </tr>\n",
       "    <tr>\n",
       "      <th>1994</th>\n",
       "      <td>2992</td>\n",
       "      <td>20435</td>\n",
       "      <td>6.829880</td>\n",
       "    </tr>\n",
       "    <tr>\n",
       "      <th>2006</th>\n",
       "      <td>4510</td>\n",
       "      <td>31589</td>\n",
       "      <td>7.004213</td>\n",
       "    </tr>\n",
       "    <tr>\n",
       "      <th>1996</th>\n",
       "      <td>2904</td>\n",
       "      <td>21628</td>\n",
       "      <td>7.447658</td>\n",
       "    </tr>\n",
       "    <tr>\n",
       "      <th>1998</th>\n",
       "      <td>2832</td>\n",
       "      <td>21470</td>\n",
       "      <td>7.581215</td>\n",
       "    </tr>\n",
       "    <tr>\n",
       "      <th>2000</th>\n",
       "      <td>2817</td>\n",
       "      <td>21428</td>\n",
       "      <td>7.606674</td>\n",
       "    </tr>\n",
       "    <tr>\n",
       "      <th>2008</th>\n",
       "      <td>2023</td>\n",
       "      <td>15578</td>\n",
       "      <td>7.700445</td>\n",
       "    </tr>\n",
       "    <tr>\n",
       "      <th>2018</th>\n",
       "      <td>2348</td>\n",
       "      <td>18296</td>\n",
       "      <td>7.792164</td>\n",
       "    </tr>\n",
       "    <tr>\n",
       "      <th>2010</th>\n",
       "      <td>2044</td>\n",
       "      <td>16064</td>\n",
       "      <td>7.859100</td>\n",
       "    </tr>\n",
       "    <tr>\n",
       "      <th>2022</th>\n",
       "      <td>3544</td>\n",
       "      <td>28170</td>\n",
       "      <td>7.948646</td>\n",
       "    </tr>\n",
       "    <tr>\n",
       "      <th>2016</th>\n",
       "      <td>2867</td>\n",
       "      <td>22858</td>\n",
       "      <td>7.972794</td>\n",
       "    </tr>\n",
       "    <tr>\n",
       "      <th>2021</th>\n",
       "      <td>4032</td>\n",
       "      <td>32250</td>\n",
       "      <td>7.998512</td>\n",
       "    </tr>\n",
       "    <tr>\n",
       "      <th>2004</th>\n",
       "      <td>2812</td>\n",
       "      <td>23369</td>\n",
       "      <td>8.310455</td>\n",
       "    </tr>\n",
       "    <tr>\n",
       "      <th>2002</th>\n",
       "      <td>2765</td>\n",
       "      <td>23879</td>\n",
       "      <td>8.636166</td>\n",
       "    </tr>\n",
       "    <tr>\n",
       "      <th>1983</th>\n",
       "      <td>1599</td>\n",
       "      <td>15210</td>\n",
       "      <td>9.512195</td>\n",
       "    </tr>\n",
       "    <tr>\n",
       "      <th>1978</th>\n",
       "      <td>1532</td>\n",
       "      <td>14628</td>\n",
       "      <td>9.548303</td>\n",
       "    </tr>\n",
       "    <tr>\n",
       "      <th>1986</th>\n",
       "      <td>1470</td>\n",
       "      <td>14039</td>\n",
       "      <td>9.550340</td>\n",
       "    </tr>\n",
       "    <tr>\n",
       "      <th>2024</th>\n",
       "      <td>3309</td>\n",
       "      <td>31910</td>\n",
       "      <td>9.643397</td>\n",
       "    </tr>\n",
       "    <tr>\n",
       "      <th>1975</th>\n",
       "      <td>1490</td>\n",
       "      <td>16093</td>\n",
       "      <td>10.800671</td>\n",
       "    </tr>\n",
       "    <tr>\n",
       "      <th>1972</th>\n",
       "      <td>1613</td>\n",
       "      <td>18577</td>\n",
       "      <td>11.517049</td>\n",
       "    </tr>\n",
       "  </tbody>\n",
       "</table>\n",
       "</div>"
      ],
      "text/plain": [
       "      Observations  NaNs Across All Variables  NaN Ratio\n",
       "year                                                    \n",
       "1985          1534                       6008   3.916558\n",
       "1977          1530                       6202   4.053595\n",
       "1984          1473                       7531   5.112695\n",
       "1987          1819                       9324   5.125893\n",
       "1990          1372                       7106   5.179300\n",
       "1980          1468                       7617   5.188692\n",
       "1993          1606                       8353   5.201121\n",
       "1988          1481                       7778   5.251857\n",
       "1989          1537                       8162   5.310345\n",
       "1974          1484                       7883   5.311995\n",
       "2014          2538                      13566   5.345154\n",
       "1991          1517                       8216   5.415953\n",
       "1973          1504                       8152   5.420213\n",
       "2012          1974                      10764   5.452888\n",
       "1976          1499                       8212   5.478319\n",
       "1982          1860                      12341   6.634946\n",
       "1994          2992                      20435   6.829880\n",
       "2006          4510                      31589   7.004213\n",
       "1996          2904                      21628   7.447658\n",
       "1998          2832                      21470   7.581215\n",
       "2000          2817                      21428   7.606674\n",
       "2008          2023                      15578   7.700445\n",
       "2018          2348                      18296   7.792164\n",
       "2010          2044                      16064   7.859100\n",
       "2022          3544                      28170   7.948646\n",
       "2016          2867                      22858   7.972794\n",
       "2021          4032                      32250   7.998512\n",
       "2004          2812                      23369   8.310455\n",
       "2002          2765                      23879   8.636166\n",
       "1983          1599                      15210   9.512195\n",
       "1978          1532                      14628   9.548303\n",
       "1986          1470                      14039   9.550340\n",
       "2024          3309                      31910   9.643397\n",
       "1975          1490                      16093  10.800671\n",
       "1972          1613                      18577  11.517049"
      ]
     },
     "execution_count": 16,
     "metadata": {},
     "output_type": "execute_result"
    }
   ],
   "source": [
    "nans_by_year = df_gss.isna().groupby(df_gss[\"year\"]).sum().sum(axis=1)\n",
    "observations_by_year = df_gss.groupby(\"year\").size()\n",
    "\n",
    "nan_summary = pd.DataFrame({\n",
    "    \"Observations\": observations_by_year,\n",
    "    \"NaNs Across All Variables\": nans_by_year\n",
    "})\n",
    "\n",
    "nan_summary[\"NaN Ratio\"] = nan_summary[\"NaNs Across All Variables\"] / nan_summary[\"Observations\"]\n",
    "nan_summary_sorted = nan_summary.sort_values(by=\"NaN Ratio\")\n",
    "nan_summary_sorted"
   ]
  },
  {
   "cell_type": "markdown",
   "metadata": {},
   "source": [
    "Sorting by the ratio of NaN values to actual observations, we can see 1985 is the best year that minimizes these gaps. We will use this specific year moving forward. "
   ]
  },
  {
   "cell_type": "code",
   "execution_count": 17,
   "metadata": {},
   "outputs": [],
   "source": [
    "filtered_df_gss = df_gss[df_gss[\"year\"] == 1985]"
   ]
  },
  {
   "cell_type": "code",
   "execution_count": 19,
   "metadata": {},
   "outputs": [
    {
     "name": "stdout",
     "output_type": "stream",
     "text": [
      "<class 'pandas.core.frame.DataFrame'>\n",
      "Index: 1534 entries, 17052 to 18585\n",
      "Data columns (total 15 columns):\n",
      " #   Column    Non-Null Count  Dtype  \n",
      "---  ------    --------------  -----  \n",
      " 0   year      1534 non-null   int64  \n",
      " 1   id_       1534 non-null   int64  \n",
      " 2   hrs1      912 non-null    float64\n",
      " 3   wrkslf    1453 non-null   object \n",
      " 4   weekswrk  0 non-null      float64\n",
      " 5   joblose   932 non-null    object \n",
      " 6   jobfind   924 non-null    object \n",
      " 7   satjob    1235 non-null   object \n",
      " 8   richwork  978 non-null    object \n",
      " 9   jobinc    1500 non-null   float64\n",
      " 10  jobsec    1500 non-null   float64\n",
      " 11  jobhour   1500 non-null   float64\n",
      " 12  jobpromo  1500 non-null   float64\n",
      " 13  jobmeans  1500 non-null   float64\n",
      " 14  ballot    0 non-null      object \n",
      "dtypes: float64(7), int64(2), object(6)\n",
      "memory usage: 191.8+ KB\n"
     ]
    }
   ],
   "source": [
    "filtered_df_gss.info()"
   ]
  },
  {
   "cell_type": "markdown",
   "metadata": {},
   "source": [
    "Now weekswrk and ballot are both just full of nulls - this is because ballot was just not recorded in 1985. Looks to be the same for weekswrk. Everything else should be good!"
   ]
  },
  {
   "cell_type": "code",
   "execution_count": 21,
   "metadata": {},
   "outputs": [],
   "source": [
    "filtered_df_gss = filtered_df_gss.drop(columns=[\"weekswrk\", \"ballot\"])"
   ]
  },
  {
   "cell_type": "markdown",
   "metadata": {},
   "source": [
    "### 4.\n",
    "\n",
    "// note check research questions above - if you have better ones do those but if not i gave some that might be a good foundation"
   ]
  }
 ],
 "metadata": {
  "kernelspec": {
   "display_name": "venv",
   "language": "python",
   "name": "python3"
  },
  "language_info": {
   "codemirror_mode": {
    "name": "ipython",
    "version": 3
   },
   "file_extension": ".py",
   "mimetype": "text/x-python",
   "name": "python",
   "nbconvert_exporter": "python",
   "pygments_lexer": "ipython3",
   "version": "3.13.3"
  }
 },
 "nbformat": 4,
 "nbformat_minor": 2
}
